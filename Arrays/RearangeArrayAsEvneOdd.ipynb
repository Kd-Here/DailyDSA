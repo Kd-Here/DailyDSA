{
 "cells": [
  {
   "cell_type": "code",
   "execution_count": null,
   "metadata": {},
   "outputs": [],
   "source": []
  },
  {
   "cell_type": "markdown",
   "metadata": {},
   "source": [
    "Rearrange array such that arr[i] >= arr[j] if i is even and arr[i]<=arr[j] if i is odd and j < i\n",
    "- Given an array of n elements. Our task is to write a program to rearrange the array such that elements at even positions are greater than all elements before it and elements at odd positions are less than all elements before it.\n"
   ]
  },
  {
   "cell_type": "code",
   "execution_count": 148,
   "metadata": {},
   "outputs": [
    {
     "name": "stdout",
     "output_type": "stream",
     "text": [
      "[4, 5, 2, 6, 1, 8, 1, 8]\n"
     ]
    }
   ],
   "source": [
    "a = [ 1, 2, 1, 4, 5, 6, 8, 8 ]\n",
    "b = sorted(a)\n",
    "l = len(a)\n",
    "aoDD = b[:(l//2-1):-1]\n",
    "aEven = b[:len(a)-len(a)//2:]\n",
    "\n",
    "\n",
    "b = []\n",
    "for i in range(len(a)):\n",
    "    if i%2 != 0:\n",
    "        b.append(aoDD.pop())\n",
    "    else:\n",
    "        b.append(aEven.pop())\n",
    "print(b)"
   ]
  },
  {
   "cell_type": "code",
   "execution_count": 144,
   "metadata": {},
   "outputs": [
    {
     "name": "stdout",
     "output_type": "stream",
     "text": [
      "[1, 1, 2, 4, 5, 6, 8, 8]\n",
      "8\n",
      "4\n",
      "[5, 6, 8, 8]\n",
      "0\n",
      "1\n",
      "2\n",
      "3\n"
     ]
    }
   ],
   "source": [
    "# Taken help from here\n",
    "\n",
    "# b = []\n",
    "# a = [ 1, 2, 1, 4, 5, 6, 8, 8 ]\n",
    "# b = sorted(a)\n",
    "# print(b)\n",
    "# print(len(a))\n",
    "# l = len(a)\n",
    "# print(l//2)\n",
    "\n",
    "\n",
    "\n",
    "# print(a[l//2::])\n",
    "# for i in range(l//2):\n",
    "#     print(i)"
   ]
  }
 ],
 "metadata": {
  "kernelspec": {
   "display_name": "Python 3.10.0 64-bit",
   "language": "python",
   "name": "python3"
  },
  "language_info": {
   "codemirror_mode": {
    "name": "ipython",
    "version": 3
   },
   "file_extension": ".py",
   "mimetype": "text/x-python",
   "name": "python",
   "nbconvert_exporter": "python",
   "pygments_lexer": "ipython3",
   "version": "3.10.0"
  },
  "orig_nbformat": 4,
  "vscode": {
   "interpreter": {
    "hash": "2d3283b7ede15a3ba02d29b57611833951a6474bfc2330b92af0513ee46fd488"
   }
  }
 },
 "nbformat": 4,
 "nbformat_minor": 2
}
