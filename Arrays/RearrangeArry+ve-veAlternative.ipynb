{
 "cells": [
  {
   "cell_type": "markdown",
   "metadata": {},
   "source": [
    "Rearrange array in alternating positive & negative items with O(1) extra space | Set 1\n"
   ]
  },
  {
   "cell_type": "code",
   "execution_count": 32,
   "metadata": {},
   "outputs": [
    {
     "name": "stdout",
     "output_type": "stream",
     "text": [
      "[1, 2, -3, -4, -5, 6]\n",
      "-3\n",
      "-4\n",
      "-5\n",
      "6\n"
     ]
    }
   ],
   "source": [
    "arr = [1,2,-3,-4,-5,6]\n",
    "print(arr)\n",
    "\n",
    "for i in arr[2:]:\n",
    "    print(i)"
   ]
  },
  {
   "cell_type": "code",
   "execution_count": 33,
   "metadata": {},
   "outputs": [
    {
     "name": "stdout",
     "output_type": "stream",
     "text": [
      "[1, -3, 2, -3, 6, -4, -5, 6]\n"
     ]
    }
   ],
   "source": [
    "# Play with position of even and odd\n",
    "\n",
    "for i in range(len(arr)):\n",
    "    if i%2 == 0: #Even\n",
    "        if arr[i]<0:    #Even with -ve\n",
    "            for j in arr[i:]:\n",
    "                if j >0:\n",
    "                    arr.insert(i,j)\n",
    "                    break\n",
    "\n",
    "    else: #Odd\n",
    "        if arr[i] > 0:  #Odd with +ve\n",
    "            for j in arr[i:]:\n",
    "                if j <0:\n",
    "                    arr.insert(i,j)\n",
    "                    break\n",
    "print(arr)\n",
    "\n"
   ]
  },
  {
   "cell_type": "code",
   "execution_count": 13,
   "metadata": {},
   "outputs": [
    {
     "name": "stdout",
     "output_type": "stream",
     "text": [
      "[-9, -1, -4, -2, 30, 4, 5, 8]\n"
     ]
    }
   ],
   "source": [
    "arr = [-9,-1,-4,-2,30,4,5,8]\n",
    "\n",
    "\n",
    "for i in range(len(arr)):\n",
    "    if i%2 == 0: #Even\n",
    "        if arr[i]<0:    #Even with -ve\n",
    "            for j in arr[i:]:\n",
    "                if j >0:\n",
    "                    c = j\n",
    "                    j = j + arr[i]\n",
    "                    arr[i] = j - arr[i]\n",
    "                    arr[arr.index(c)] = j - arr[i]\n",
    "                    #remove element at the index\n",
    "                    break\n",
    "\n",
    "    else: #Odd\n",
    "        if arr[i] > 0:  #Odd with +ve\n",
    "            for j in arr[i:]:\n",
    "                if j <0:\n",
    "                    c = j\n",
    "                    j = j + arr[i]\n",
    "                    arr[i] = j - arr[i]\n",
    "                    arr[arr.index(c)] = j - arr[i]\n",
    "                    break\n",
    "print(arr)\n",
    "\n",
    "# # \n"
   ]
  },
  {
   "cell_type": "code",
   "execution_count": 25,
   "metadata": {},
   "outputs": [
    {
     "name": "stdout",
     "output_type": "stream",
     "text": [
      "[1, -2, 4, -8, 8, -9, -10, 9, -10]\n",
      "[1, -2, 4, -3000, -8, 8, -9, -10, 9, -10]\n"
     ]
    }
   ],
   "source": [
    "arr = [1,-2,-3000,4,-8,8,-9,-10,9,-10]\n",
    "c = arr.pop(2)\n",
    "print(arr)\n",
    "arr.insert(,c)\n",
    "print(arr)\n"
   ]
  }
 ],
 "metadata": {
  "kernelspec": {
   "display_name": "Python 3.10.0 64-bit",
   "language": "python",
   "name": "python3"
  },
  "language_info": {
   "codemirror_mode": {
    "name": "ipython",
    "version": 3
   },
   "file_extension": ".py",
   "mimetype": "text/x-python",
   "name": "python",
   "nbconvert_exporter": "python",
   "pygments_lexer": "ipython3",
   "version": "3.10.0 (tags/v3.10.0:b494f59, Oct  4 2021, 19:00:18) [MSC v.1929 64 bit (AMD64)]"
  },
  "orig_nbformat": 4,
  "vscode": {
   "interpreter": {
    "hash": "2d3283b7ede15a3ba02d29b57611833951a6474bfc2330b92af0513ee46fd488"
   }
  }
 },
 "nbformat": 4,
 "nbformat_minor": 2
}
