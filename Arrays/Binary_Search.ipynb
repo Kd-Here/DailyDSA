{
 "cells": [
  {
   "cell_type": "markdown",
   "metadata": {},
   "source": [
    "<h2>Learn how to do binary search</h2>"
   ]
  },
  {
   "cell_type": "code",
   "execution_count": 25,
   "metadata": {},
   "outputs": [
    {
     "name": "stdout",
     "output_type": "stream",
     "text": [
      "Element is present at index 45\n"
     ]
    }
   ],
   "source": [
    "# Binary Search in python\n",
    "\n",
    "\n",
    "def binarySearch(array, x, low, high):\n",
    "\n",
    "    # Repeat until the pointers low and high meet each other\n",
    "    while low <= high:\n",
    "\n",
    "        mid = (high + low)//2\n",
    "\n",
    "        if array[mid] == x:\n",
    "            return mid\n",
    "\n",
    "        elif array[mid] < x:\n",
    "            low = mid + 1\n",
    "\n",
    "        else:\n",
    "            high = mid - 1\n",
    "\n",
    "    return -1\n",
    "\n",
    "\n",
    "\n",
    "array = [1, 3, 5, 7, 9, 11, 13, 15, 17, 19, 21, 23, 25, 27, 29, 31, 33, 35, 37, 39, 41, 43, 45, 47, 49, 51, 53, 55, 57, 59, 61, 63, 65, 67, 69, 71, 73, 75, 77, 79, 81, 83, 85, 87, 89, 91, 93, 95, 97, 99]\n",
    "x = 91\n",
    "result = binarySearch(array, x, 0, len(array)-1)\n",
    "\n",
    "if result != -1:\n",
    "    print(\"Element is present at index \" + str(result))\n",
    "else:\n",
    "    print(\"Not found\")"
   ]
  },
  {
   "cell_type": "markdown",
   "metadata": {},
   "source": [
    "<h1>Create a class for binary & method search</h1>"
   ]
  },
  {
   "cell_type": "code",
   "execution_count": 33,
   "metadata": {},
   "outputs": [
    {
     "name": "stdout",
     "output_type": "stream",
     "text": [
      "The element present @ index :- 1\n"
     ]
    }
   ],
   "source": [
    "\n",
    "\n",
    "array = [1, 3, 5, 7, 9, 11, 13, 15, 17, 19, 21, 23, 25, 27, 29, 31, 33, 35, 37, 39, 41, 43, 45, 47, 49, 51, 53, 55, 57, 59, 61, 63, 65, 67, 69, 71, 73, 75, 77, 79, 81, 83, 85, 87, 89, 91, 93, 95, 97, 99]\n",
    "search = int(input(\"Enter number to find index note arry is for odd numbers from 1-100:-\\n\"))\n",
    "\n",
    "\n",
    "class BinarySearch:\n",
    "    def __init__(self,arr,find):\n",
    "        self.ary = arr\n",
    "        self.x = find\n",
    "\n",
    "\n",
    "    def SearchIndex(self):\n",
    "        a = self.ary  #alternative can be directly pass self.ary in place of a but difficult in typing\n",
    "        x = self.x    #alternative can be directly pass self.x the searching term\n",
    "\n",
    "        low = 0\n",
    "\n",
    "        high = len(a)-1  #len function returns items in object from whole number\n",
    "        \n",
    "        while low <= high: #this while <=  bcoz it will take care of lowest possiblity\n",
    "\n",
    "            mid = (low + high)//2\n",
    "            \n",
    "            if a[mid] == x:\n",
    "                return mid\n",
    "            \n",
    "            # For left side means find is lower then mid it's means our high should move -1 to left\n",
    "            elif x < a[mid]: \n",
    "                high = mid - 1\n",
    "            \n",
    "            # This means our low is moving right side \n",
    "            else:\n",
    "                low = mid + 1\n",
    "        \n",
    "        # We moved to extreme value \n",
    "        return -1\n",
    "\n",
    "            \n",
    "        \n",
    "    \n",
    "\n",
    "d = BinarySearch(array,search)\n",
    "ans = d.SearchIndex()\n",
    "if ans != -1:\n",
    "    print(\"The element present @ index :-\",ans)\n",
    "else:\n",
    "    print(\"The elment not present in the list\")\n",
    "\n"
   ]
  },
  {
   "cell_type": "markdown",
   "metadata": {},
   "source": [
    "<h3>Create a recursive method for binary search</h3>"
   ]
  },
  {
   "cell_type": "code",
   "execution_count": 1,
   "metadata": {},
   "outputs": [
    {
     "name": "stdout",
     "output_type": "stream",
     "text": [
      "HI we are starting simple python programm\n"
     ]
    }
   ],
   "source": [
    "if __name__ == \"__main__\":\n",
    "    print(\"HI we are starting simple python programm\")"
   ]
  }
 ],
 "metadata": {
  "kernelspec": {
   "display_name": "Python 3.10.6 64-bit",
   "language": "python",
   "name": "python3"
  },
  "language_info": {
   "codemirror_mode": {
    "name": "ipython",
    "version": 3
   },
   "file_extension": ".py",
   "mimetype": "text/x-python",
   "name": "python",
   "nbconvert_exporter": "python",
   "pygments_lexer": "ipython3",
   "version": "3.10.0"
  },
  "orig_nbformat": 4,
  "vscode": {
   "interpreter": {
    "hash": "2d3283b7ede15a3ba02d29b57611833951a6474bfc2330b92af0513ee46fd488"
   }
  }
 },
 "nbformat": 4,
 "nbformat_minor": 2
}
